{
 "cells": [
  {
   "cell_type": "markdown",
   "metadata": {},
   "source": [
    "# Pracenje objekata i prebrojavanje - video"
   ]
  },
  {
   "cell_type": "code",
   "execution_count": 1,
   "metadata": {
    "collapsed": false
   },
   "outputs": [],
   "source": [
    "import cv2\n",
    "import numpy as np\n",
    "from scipy import ndimage\n",
    "from vector import distance, pnt2line\n",
    "from matplotlib.pyplot import cm \n",
    "import itertools\n",
    "import time"
   ]
  },
  {
   "cell_type": "code",
   "execution_count": 2,
   "metadata": {
    "collapsed": true
   },
   "outputs": [],
   "source": [
    "cap = cv2.VideoCapture(\"images\\output.avi\")\n",
    "\n",
    "line = [(100,450), (500, 100)]"
   ]
  },
  {
   "cell_type": "code",
   "execution_count": 3,
   "metadata": {
    "collapsed": true
   },
   "outputs": [],
   "source": [
    "cc = -1\n",
    "def nextId():\n",
    "    global cc\n",
    "    cc += 1\n",
    "    return cc"
   ]
  },
  {
   "cell_type": "markdown",
   "metadata": {},
   "source": [
    "## Kako povezati objekte između frejmova"
   ]
  },
  {
   "cell_type": "code",
   "execution_count": 4,
   "metadata": {
    "collapsed": true
   },
   "outputs": [],
   "source": [
    "def inRange(r, item, items):\n",
    "    retVal = []\n",
    "    for obj in items:\n",
    "        mdist = distance(item['center'], obj['center'])\n",
    "        if(mdist<r):\n",
    "            retVal.append(obj)\n",
    "    return retVal"
   ]
  },
  {
   "cell_type": "markdown",
   "metadata": {},
   "source": [
    "### Kolor filter"
   ]
  },
  {
   "cell_type": "code",
   "execution_count": 8,
   "metadata": {
    "collapsed": true
   },
   "outputs": [],
   "source": [
    "# color filter\n",
    "kernel = np.ones((2,2),np.uint8)\n",
    "lower = np.array([230, 230, 230])\n",
    "upper = np.array([255, 255, 255])\n",
    "\n",
    "#boundaries = [\n",
    "#    ([230, 230, 230], [255, 255, 255])\n",
    "#]\n"
   ]
  },
  {
   "cell_type": "code",
   "execution_count": 9,
   "metadata": {
    "collapsed": false
   },
   "outputs": [
    {
     "ename": "AttributeError",
     "evalue": "'module' object has no attribute 'VideoWriter_fourcc'",
     "output_type": "error",
     "traceback": [
      "\u001b[0;31m---------------------------------------------------------------------------\u001b[0m",
      "\u001b[0;31mAttributeError\u001b[0m                            Traceback (most recent call last)",
      "\u001b[0;32m<ipython-input-9-f52b1bdf47e0>\u001b[0m in \u001b[0;36m<module>\u001b[0;34m()\u001b[0m\n\u001b[0;32m----> 1\u001b[0;31m \u001b[0mfourcc\u001b[0m \u001b[0;34m=\u001b[0m \u001b[0mcv2\u001b[0m\u001b[0;34m.\u001b[0m\u001b[0mVideoWriter_fourcc\u001b[0m\u001b[0;34m(\u001b[0m\u001b[0;34m*\u001b[0m\u001b[0;34m'XVID'\u001b[0m\u001b[0;34m)\u001b[0m\u001b[0;34m\u001b[0m\u001b[0m\n\u001b[0m\u001b[1;32m      2\u001b[0m \u001b[0;31m#fourcc = cv2.cv.CV_FOURCC(*'XVID')\u001b[0m\u001b[0;34m\u001b[0m\u001b[0;34m\u001b[0m\u001b[0m\n\u001b[1;32m      3\u001b[0m \u001b[0mout\u001b[0m \u001b[0;34m=\u001b[0m \u001b[0mcv2\u001b[0m\u001b[0;34m.\u001b[0m\u001b[0mVideoWriter\u001b[0m\u001b[0;34m(\u001b[0m\u001b[0;34m'images/output-rezB.avi'\u001b[0m\u001b[0;34m,\u001b[0m\u001b[0mfourcc\u001b[0m\u001b[0;34m,\u001b[0m \u001b[0;36m20.0\u001b[0m\u001b[0;34m,\u001b[0m \u001b[0;34m(\u001b[0m\u001b[0;36m640\u001b[0m\u001b[0;34m,\u001b[0m\u001b[0;36m480\u001b[0m\u001b[0;34m)\u001b[0m\u001b[0;34m)\u001b[0m\u001b[0;34m\u001b[0m\u001b[0m\n\u001b[1;32m      4\u001b[0m \u001b[0;34m\u001b[0m\u001b[0m\n\u001b[1;32m      5\u001b[0m \u001b[0melements\u001b[0m \u001b[0;34m=\u001b[0m \u001b[0;34m[\u001b[0m\u001b[0;34m]\u001b[0m\u001b[0;34m\u001b[0m\u001b[0m\n",
      "\u001b[0;31mAttributeError\u001b[0m: 'module' object has no attribute 'VideoWriter_fourcc'"
     ]
    }
   ],
   "source": [
    "#fourcc = cv2.VideoWriter_fourcc(*'XVID')\n",
    "fourcc = cv2.cv.CV_FOURCC(*'XVID')\n",
    "out = cv2.VideoWriter('images/output-rezB.avi',fourcc, 20.0, (640,480))\n",
    "\n",
    "elements = []\n",
    "t =0\n",
    "counter = 0\n",
    "times = []"
   ]
  },
  {
   "cell_type": "code",
   "execution_count": 7,
   "metadata": {
    "collapsed": false
   },
   "outputs": [
    {
     "ename": "error",
     "evalue": "/home/djordje/dev-tools/OpenCV/opencv-2.4.9/modules/core/src/arithm.cpp:2682: error: (-209) The lower bounary is neither an array of the same size and same type as src, nor a scalar in function inRange\n",
     "output_type": "error",
     "traceback": [
      "\u001b[0;31m---------------------------------------------------------------------------\u001b[0m",
      "\u001b[0;31merror\u001b[0m                                     Traceback (most recent call last)",
      "\u001b[0;32m<ipython-input-7-190d579cab18>\u001b[0m in \u001b[0;36m<module>\u001b[0;34m()\u001b[0m\n\u001b[1;32m      6\u001b[0m     \u001b[0mlower\u001b[0m \u001b[0;34m=\u001b[0m \u001b[0mnp\u001b[0m\u001b[0;34m.\u001b[0m\u001b[0marray\u001b[0m\u001b[0;34m(\u001b[0m\u001b[0mlower\u001b[0m\u001b[0;34m,\u001b[0m \u001b[0mdtype\u001b[0m \u001b[0;34m=\u001b[0m \u001b[0;34m\"uint8\"\u001b[0m\u001b[0;34m)\u001b[0m\u001b[0;34m\u001b[0m\u001b[0m\n\u001b[1;32m      7\u001b[0m     \u001b[0mupper\u001b[0m \u001b[0;34m=\u001b[0m \u001b[0mnp\u001b[0m\u001b[0;34m.\u001b[0m\u001b[0marray\u001b[0m\u001b[0;34m(\u001b[0m\u001b[0mupper\u001b[0m\u001b[0;34m,\u001b[0m \u001b[0mdtype\u001b[0m \u001b[0;34m=\u001b[0m \u001b[0;34m\"uint8\"\u001b[0m\u001b[0;34m)\u001b[0m\u001b[0;34m\u001b[0m\u001b[0m\n\u001b[0;32m----> 8\u001b[0;31m     \u001b[0mmask\u001b[0m \u001b[0;34m=\u001b[0m \u001b[0mcv2\u001b[0m\u001b[0;34m.\u001b[0m\u001b[0minRange\u001b[0m\u001b[0;34m(\u001b[0m\u001b[0mimg\u001b[0m\u001b[0;34m,\u001b[0m \u001b[0mlower\u001b[0m\u001b[0;34m,\u001b[0m \u001b[0mupper\u001b[0m\u001b[0;34m)\u001b[0m\u001b[0;34m\u001b[0m\u001b[0m\n\u001b[0m\u001b[1;32m      9\u001b[0m     \u001b[0mimg0\u001b[0m \u001b[0;34m=\u001b[0m \u001b[0;36m1.0\u001b[0m\u001b[0;34m*\u001b[0m\u001b[0mmask\u001b[0m\u001b[0;34m\u001b[0m\u001b[0m\n\u001b[1;32m     10\u001b[0m \u001b[0;34m\u001b[0m\u001b[0m\n",
      "\u001b[0;31merror\u001b[0m: /home/djordje/dev-tools/OpenCV/opencv-2.4.9/modules/core/src/arithm.cpp:2682: error: (-209) The lower bounary is neither an array of the same size and same type as src, nor a scalar in function inRange\n"
     ]
    }
   ],
   "source": [
    "while(1):\n",
    "    start_time = time.time()\n",
    "    ret, img = cap.read()\n",
    "    #(lower, upper) = boundaries[0]\n",
    "    # create NumPy arrays from the boundaries\n",
    "    lower = np.array(lower, dtype = \"uint8\")\n",
    "    upper = np.array(upper, dtype = \"uint8\")\n",
    "    mask = cv2.inRange(img, lower, upper)    \n",
    "    img0 = 1.0*mask\n",
    "\n",
    "    img0 = cv2.dilate(img0,kernel) #cv2.erode(img0,kernel)\n",
    "    img0 = cv2.dilate(img0,kernel)\n",
    "\n",
    "    labeled, nr_objects = ndimage.label(img0)\n",
    "    objects = ndimage.find_objects(labeled)\n",
    "    for i in range(nr_objects):\n",
    "        loc = objects[i]\n",
    "        (xc,yc) = ((loc[1].stop + loc[1].start)/2,\n",
    "                   (loc[0].stop + loc[0].start)/2)\n",
    "        (dxc,dyc) = ((loc[1].stop - loc[1].start),\n",
    "                   (loc[0].stop - loc[0].start))\n",
    "\n",
    "        if(dxc>11 or dyc>11):\n",
    "            cv2.circle(img, (xc,yc), 16, (25, 25, 255), 1)\n",
    "            elem = {'center':(xc,yc), 'size':(dxc,dyc), 't':t}\n",
    "            # find in range\n",
    "            lst = inRange(20, elem, elements)\n",
    "            nn = len(lst)\n",
    "            if nn == 0:\n",
    "                elem['id'] = nextId()\n",
    "                elem['t'] = t\n",
    "                elem['pass'] = False\n",
    "                elem['history'] = [{'center':(xc,yc), 'size':(dxc,dyc), 't':t}]\n",
    "                elem['future'] = [] \n",
    "                elements.append(elem)\n",
    "            elif nn == 1:\n",
    "                lst[0]['center'] = elem['center']\n",
    "                lst[0]['t'] = t\n",
    "                lst[0]['history'].append({'center':(xc,yc), 'size':(dxc,dyc), 't':t}) \n",
    "                lst[0]['future'] = [] \n",
    "                        \n",
    "    for el in elements:\n",
    "        tt = t - el['t']\n",
    "        if(tt<3):\n",
    "            dist, pnt, r = pnt2line(el['center'], line[0], line[1])\n",
    "            if r>0:\n",
    "                cv2.line(img, pnt, el['center'], (0, 255, 25), 1)\n",
    "                c = (25, 25, 255)\n",
    "                if(dist<9):\n",
    "                    c = (0, 255, 160)\n",
    "                    if el['pass'] == False:\n",
    "                        el['pass'] = True\n",
    "                        counter += 1\n",
    "\n",
    "            cv2.circle(img, el['center'], 16, c, 2)\n",
    "\n",
    "            id = el['id']\n",
    "            cv2.putText(img, str(el['id']), \n",
    "                (el['center'][0]+10, el['center'][1]+10), \n",
    "                cv2.FONT_HERSHEY_SIMPLEX, 1, 255)\n",
    "            for hist in el['history']:\n",
    "                ttt = t-hist['t']\n",
    "                if(ttt<100):\n",
    "                    cv2.circle(img, hist['center'], 1, (0, 255, 255), 1)\n",
    "\n",
    "            for fu in el['future']:\n",
    "                ttt = fu[0]-t\n",
    "                if(ttt<100):\n",
    "                    cv2.circle(img, (fu[1], fu[2]), 1, (255, 255, 0), 1)\n",
    "\n",
    "    elapsed_time = time.time() - start_time\n",
    "    times.append(elapsed_time*1000)\n",
    "    cv2.putText(img, 'Counter: '+str(counter), (400, 90), cv2.FONT_HERSHEY_SIMPLEX, 1,(90,90,255),2)    \n",
    "\n",
    "    #print nr_objects\n",
    "    t += 1\n",
    "    if t%10==0:\n",
    "        print t\n",
    "    cv2.imshow('frame', img)\n",
    "    k = cv2.waitKey(30) & 0xff\n",
    "    if k == 27:\n",
    "        break\n",
    "    out.write(img)\n",
    "out.release()        \n",
    "cap.release()\n",
    "cv2.destroyAllWindows()\n",
    "\n",
    "et = np.array(times)\n",
    "print 'mean %.2f ms'%(np.mean(et))\n",
    "#print np.std(et)"
   ]
  },
  {
   "cell_type": "code",
   "execution_count": null,
   "metadata": {
    "collapsed": true
   },
   "outputs": [],
   "source": []
  },
  {
   "cell_type": "code",
   "execution_count": null,
   "metadata": {
    "collapsed": true
   },
   "outputs": [],
   "source": []
  }
 ],
 "metadata": {
  "kernelspec": {
   "display_name": "Python 2",
   "language": "python",
   "name": "python2"
  },
  "language_info": {
   "codemirror_mode": {
    "name": "ipython",
    "version": 2
   },
   "file_extension": ".py",
   "mimetype": "text/x-python",
   "name": "python",
   "nbconvert_exporter": "python",
   "pygments_lexer": "ipython2",
   "version": "2.7.6"
  }
 },
 "nbformat": 4,
 "nbformat_minor": 0
}
