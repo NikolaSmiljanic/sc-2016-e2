{
 "cells": [
  {
   "cell_type": "markdown",
   "metadata": {},
   "source": [
    "# Numpy - primenjena numerička matematika - linearna algebra\n",
    "\n",
    "U ovom poglavlju biće prikazane osnove Primenjene matematike odnosno alata koji će biti osnova za ostatak knjige.\n",
    "Svi primeri biće prikazani u programskom jeziku python.\n",
    "\n",
    "Veoma je bitno da razumete osnovnu terminologiju Primenjene matematike u kojoj je za naše potrebe na posebnom mestu Linearna algebra kako diskrenta tako i kontinualna. \n",
    "\n",
    "Na početku krenućemo sa osnovnim stvarima: \n",
    "\n",
    "### Skalari, vektori, matrice i tenzori\n",
    "Osnovni matematički objekti:\n",
    "\n",
    "##### Skalar\n",
    "Osnovni element od kojeg ćemo graditi sve kompleksnije matematičke strukture. Predstavlja jedan broj, jednu numeričku vrednost. U nastavku skalar ćemo obeležavati malim slovom pisanim u kurzivu (italic). Programski skalarne promenjive su ugrađene u većinu programskih jezika: C (int, long, float), Java (int, long, float, double), Python(int, long, float). Veoma je bitno naglasiti da su tipovi podataka koje koristimo u programskim jezicima odnosno numeričkim algoritmima koji se izvršavaju na računaru konačni skupovi sa ogrničenim brojem elemenata. Iako je taj broj elemenata velik i prividno izgleda kao da svaki realan broj možemo predstaviti pomoću double promenljive to nije tačno.\n",
    "\n",
    "U python programskom jeziku nema potrebe za eksplicitnim deklarisanjem tipa promenljive. Zauzimanje memorije se vrši dinamički od potrebe. "
   ]
  },
  {
   "cell_type": "code",
   "execution_count": 1,
   "metadata": {
    "collapsed": false
   },
   "outputs": [
    {
     "name": "stdout",
     "output_type": "stream",
     "text": [
      "6\n",
      "<type 'float'>\n"
     ]
    }
   ],
   "source": [
    "a = 1 # int\n",
    "b = 5 # int\n",
    "print a+b\n",
    "\n",
    "a = 1.3 # float\n",
    "print type(a)"
   ]
  },
  {
   "cell_type": "markdown",
   "metadata": {},
   "source": [
    "Osnovne operacije između skalara: sabiranje, oduzimanje, množenje i delenje. U zavisnosti od tipa (int ili float) će se korisiti odgovoarajuće implementacije operatora. Npr. \n",
    "\n",
    "- int+int -> int\n",
    "- float+int -> float\n",
    "- int/int -> int"
   ]
  },
  {
   "cell_type": "code",
   "execution_count": 2,
   "metadata": {
    "collapsed": false
   },
   "outputs": [
    {
     "name": "stdout",
     "output_type": "stream",
     "text": [
      "0\n"
     ]
    }
   ],
   "source": [
    "a = 1\n",
    "b = 5\n",
    "print a/b"
   ]
  },
  {
   "cell_type": "markdown",
   "metadata": {},
   "source": [
    "Operator / je celobrojno delenje koje kao rezultat daje ceo broj i često je izvor grešaka u programima i relativno se teško pronalazi. \n",
    "\n",
    "Korektnije rešenje bi mogli dobiti na sledeći način:"
   ]
  },
  {
   "cell_type": "code",
   "execution_count": 3,
   "metadata": {
    "collapsed": false
   },
   "outputs": [
    {
     "name": "stdout",
     "output_type": "stream",
     "text": [
      "0.2\n"
     ]
    }
   ],
   "source": [
    "a = 1.\n",
    "b = 5.\n",
    "print a/b"
   ]
  },
  {
   "cell_type": "markdown",
   "metadata": {},
   "source": [
    "##### Vektori, nizovi\n",
    "Vektori i nizovi su uređene kolekcije brojeva. Npr. uređeni par je niz od dva broja. Često se pod vektorima podrazumevaju nizovi realnih brojeva. Neki programski jezici dozvoljavaju da elementi nizova ne moraju biti uniformni. Npr. niz u kojem se nalaze brojevi i alfanumerički podaci pomešano. \n",
    "\n",
    "Vektore ćemo prikazivati bold malim slovima a pojedinačne elemente čemo referencirati preko rednog broja. Zbog jednostavnijeg povezivanja sa programima prvi element u nizu ćemo referencirati brojem 0 a poslednji sa $n_{-1}$. \n",
    "\n",
    "$$\n",
    "\\begin{align}\n",
    "  x = \\begin{bmatrix}\n",
    "    x_0\\\\\n",
    "    x_1\\\\\n",
    "    ..\\\\\n",
    "    x_{n-1}\n",
    "  \\end{bmatrix}\n",
    "\\end{align}\n",
    "$$\n"
   ]
  },
  {
   "cell_type": "markdown",
   "metadata": {},
   "source": [
    "Python u osnovi pruža podršku za rad sa nizovima ali pravi efikasan način je kad se koriste paketi specijalizovani za efikasno skladištenje o obradu numeričkih struktura poput vektora, matrica i tenzora. Jedan od paketa koji se istakao je paket numpy.\n",
    "\n",
    "http://www.numpy.org/\n",
    "\n",
    "U nastavku biće prikazani primeri za definisanje vektora pomoću numpy biblioteke i biće prikazane najvažnije operacije i karakteristike.\n",
    "\n",
    "Deklaracija niza prikazana je u sledećem:"
   ]
  },
  {
   "cell_type": "code",
   "execution_count": 4,
   "metadata": {
    "collapsed": false
   },
   "outputs": [],
   "source": [
    "import numpy as np\n",
    "\n",
    "a = np.array([1, 2, 3, 4])"
   ]
  },
  {
   "cell_type": "code",
   "execution_count": 5,
   "metadata": {
    "collapsed": false
   },
   "outputs": [
    {
     "name": "stdout",
     "output_type": "stream",
     "text": [
      "<type 'numpy.ndarray'>\n",
      "(4,)\n"
     ]
    }
   ],
   "source": [
    "print type(a)\n",
    "print a.shape"
   ]
  },
  {
   "cell_type": "markdown",
   "metadata": {},
   "source": [
    "Pristup elementima vektora/niza"
   ]
  },
  {
   "cell_type": "code",
   "execution_count": 6,
   "metadata": {
    "collapsed": false
   },
   "outputs": [
    {
     "name": "stdout",
     "output_type": "stream",
     "text": [
      "1 2\n",
      "[5 2 3 4]\n"
     ]
    }
   ],
   "source": [
    "print a[0], a[1]\n",
    "\n",
    "a[0] = 5\n",
    "print a"
   ]
  },
  {
   "cell_type": "markdown",
   "metadata": {},
   "source": [
    "##### Matrice\n",
    "Matrice su 2D nizovi brojeva, gde se svaki elemet matrice identifikuje preko dva cela broja umesto kao kod vektora samo sa jednim. \n",
    "\n",
    "Matrice ćemo obeležavati velikim slovom a indeksi će počinjati od 0. \n",
    "\n",
    "$A=\\left[\\begin{array}{cccc}\n",
    "a_{0,0} & a_{0,1} & ... & a_{0,n}\t\\\\\n",
    "a_{1,0} & a_{1,0} & ... & a_{1,n}\t\\\\\n",
    "...\t\\\\\n",
    "a_{m,0} & a_{m,1} & ... & a_{m,n}\t\n",
    "\\end{array}\\right]$\n",
    "\n",
    "\n"
   ]
  },
  {
   "cell_type": "code",
   "execution_count": 7,
   "metadata": {
    "collapsed": false
   },
   "outputs": [
    {
     "name": "stdout",
     "output_type": "stream",
     "text": [
      "(2, 3)\n",
      "1 4\n"
     ]
    }
   ],
   "source": [
    "b = np.array([[1, 2, 3], [4, 5, 6]])\n",
    "print b.shape\n",
    "print b[0,0], b[1,0] "
   ]
  },
  {
   "cell_type": "code",
   "execution_count": 8,
   "metadata": {
    "collapsed": false
   },
   "outputs": [
    {
     "name": "stdout",
     "output_type": "stream",
     "text": [
      "[[ 0.  0.]\n",
      " [ 0.  0.]]\n"
     ]
    }
   ],
   "source": [
    "a = np.zeros((2,2))\n",
    "print a"
   ]
  },
  {
   "cell_type": "code",
   "execution_count": 9,
   "metadata": {
    "collapsed": false
   },
   "outputs": [
    {
     "name": "stdout",
     "output_type": "stream",
     "text": [
      "[[ 1.  1.]]\n"
     ]
    }
   ],
   "source": [
    "b = np.ones((1,2))\n",
    "print b"
   ]
  },
  {
   "cell_type": "code",
   "execution_count": 10,
   "metadata": {
    "collapsed": false
   },
   "outputs": [
    {
     "name": "stdout",
     "output_type": "stream",
     "text": [
      "[[ 7.1  7.1]\n",
      " [ 7.1  7.1]]\n"
     ]
    }
   ],
   "source": [
    "c = np.full((2,2), 7.1)\n",
    "print c"
   ]
  },
  {
   "cell_type": "code",
   "execution_count": 11,
   "metadata": {
    "collapsed": false
   },
   "outputs": [
    {
     "name": "stdout",
     "output_type": "stream",
     "text": [
      "[[ 1.  0.]\n",
      " [ 0.  1.]]\n"
     ]
    }
   ],
   "source": [
    "d = np.eye(2)\n",
    "print d"
   ]
  },
  {
   "cell_type": "code",
   "execution_count": 12,
   "metadata": {
    "collapsed": false
   },
   "outputs": [
    {
     "name": "stdout",
     "output_type": "stream",
     "text": [
      "[[ 0.34363353  0.07012988]\n",
      " [ 0.07835497  0.8740576 ]]\n"
     ]
    }
   ],
   "source": [
    "e = np.random.random((2,2))\n",
    "print e"
   ]
  },
  {
   "cell_type": "code",
   "execution_count": 13,
   "metadata": {
    "collapsed": false
   },
   "outputs": [
    {
     "name": "stdout",
     "output_type": "stream",
     "text": [
      "[[ 1  2  3  4]\n",
      " [ 5  6  7  8]\n",
      " [ 9 10 11 12]]\n"
     ]
    }
   ],
   "source": [
    "a = np.array([[1,2,3,4], \n",
    "              [5,6,7,8], \n",
    "              [9,10,11,12]])\n",
    "print a"
   ]
  },
  {
   "cell_type": "code",
   "execution_count": 14,
   "metadata": {
    "collapsed": false
   },
   "outputs": [
    {
     "name": "stdout",
     "output_type": "stream",
     "text": [
      "2\n"
     ]
    }
   ],
   "source": [
    "b = a[:2, 1:3]\n",
    "print a[0, 1]"
   ]
  },
  {
   "cell_type": "code",
   "execution_count": 15,
   "metadata": {
    "collapsed": false
   },
   "outputs": [
    {
     "name": "stdout",
     "output_type": "stream",
     "text": [
      "77\n"
     ]
    }
   ],
   "source": [
    "b[0, 0] = 77  \n",
    "print a[0, 1] "
   ]
  },
  {
   "cell_type": "code",
   "execution_count": 16,
   "metadata": {
    "collapsed": false
   },
   "outputs": [
    {
     "name": "stdout",
     "output_type": "stream",
     "text": [
      "[[  6.   8.]\n",
      " [ 10.  12.]]\n"
     ]
    }
   ],
   "source": [
    "import numpy as np\n",
    "x = np.array([[1,2],[3,4]], dtype=np.float64)\n",
    "y = np.array([[5,6],[7,8]], dtype=np.float64)\n",
    "\n",
    "print x + y"
   ]
  },
  {
   "cell_type": "code",
   "execution_count": 17,
   "metadata": {
    "collapsed": false
   },
   "outputs": [
    {
     "name": "stdout",
     "output_type": "stream",
     "text": [
      "[[-4. -4.]\n",
      " [-4. -4.]]\n"
     ]
    }
   ],
   "source": [
    "print x - y"
   ]
  },
  {
   "cell_type": "code",
   "execution_count": 18,
   "metadata": {
    "collapsed": false
   },
   "outputs": [
    {
     "name": "stdout",
     "output_type": "stream",
     "text": [
      "[[  5.  12.]\n",
      " [ 21.  32.]]\n"
     ]
    }
   ],
   "source": [
    "print x * y"
   ]
  },
  {
   "cell_type": "code",
   "execution_count": 19,
   "metadata": {
    "collapsed": false
   },
   "outputs": [
    {
     "name": "stdout",
     "output_type": "stream",
     "text": [
      "[[ 0.2         0.33333333]\n",
      " [ 0.42857143  0.5       ]]\n"
     ]
    }
   ],
   "source": [
    "print x / y"
   ]
  },
  {
   "cell_type": "markdown",
   "metadata": {},
   "source": [
    "## transformacije prostora"
   ]
  },
  {
   "cell_type": "code",
   "execution_count": 20,
   "metadata": {
    "collapsed": true
   },
   "outputs": [],
   "source": [
    "import numpy as np\n",
    "x = np.array([[1,2],[3,4]])\n",
    "y = np.array([[5,6],[7,8]])\n",
    "v = np.array([9,10])\n",
    "w = np.array([11, 12])"
   ]
  },
  {
   "cell_type": "code",
   "execution_count": 21,
   "metadata": {
    "collapsed": false
   },
   "outputs": [
    {
     "name": "stdout",
     "output_type": "stream",
     "text": [
      "219\n"
     ]
    }
   ],
   "source": [
    "# Inner product of vectors; both produce 219\n",
    "print v.dot(w)"
   ]
  },
  {
   "cell_type": "code",
   "execution_count": 22,
   "metadata": {
    "collapsed": false
   },
   "outputs": [
    {
     "name": "stdout",
     "output_type": "stream",
     "text": [
      "[29 67]\n"
     ]
    }
   ],
   "source": [
    "# Matrix / vector product; both produce the rank 1 array [29 67]\n",
    "print x.dot(v)"
   ]
  },
  {
   "cell_type": "code",
   "execution_count": 23,
   "metadata": {
    "collapsed": false
   },
   "outputs": [
    {
     "name": "stdout",
     "output_type": "stream",
     "text": [
      "[[19 22]\n",
      " [43 50]]\n"
     ]
    }
   ],
   "source": [
    "# Matrix / matrix product; both produce the rank 2 array\n",
    "print x.dot(y)"
   ]
  },
  {
   "cell_type": "markdown",
   "metadata": {},
   "source": [
    "## Matplotlib\n",
    "\n",
    "Nacrtati funkciju $ y=2*x^2+3 $ nad intervalom $ -1<x<5$"
   ]
  },
  {
   "cell_type": "code",
   "execution_count": 24,
   "metadata": {
    "collapsed": true
   },
   "outputs": [],
   "source": [
    "import numpy as np\n",
    "\n",
    "x = np.arange(-1, 5, 0.1)\n",
    "y = 2*x**2+3"
   ]
  },
  {
   "cell_type": "code",
   "execution_count": 25,
   "metadata": {
    "collapsed": false
   },
   "outputs": [
    {
     "data": {
      "image/png": "[encoded data removed]",
      "text/plain": [
       "<matplotlib.figure.Figure at 0x7efd16e93b50>"
      ]
     },
     "metadata": {},
     "output_type": "display_data"
    }
   ],
   "source": [
    "import matplotlib.pyplot as plt\n",
    "%matplotlib inline\n",
    "\n",
    "plt.title('Funkcija f(x)')\n",
    "plt.plot(x, y, color='g', label='y=2*x^2+3')\n",
    "plt.legend()\n",
    "plt.xlabel('x')\n",
    "plt.ylabel('y')\n",
    "plt.grid(True)\n",
    "plt.show()"
   ]
  },
  {
   "cell_type": "markdown",
   "metadata": {},
   "source": [
    "Nacrtati rezultate nepreciznih merenja:"
   ]
  },
  {
   "cell_type": "code",
   "execution_count": 26,
   "metadata": {
    "collapsed": false
   },
   "outputs": [],
   "source": [
    "In = [\n",
    " [  5.4,          0.02650762],\n",
    " [  5.4,          0.02661527],\n",
    " [  7.5,          0.03141213],\n",
    " [ 10.7,          0.03718013],\n",
    " [ 13.1,          0.04050349],\n",
    " [  3.5,          0.02058383],\n",
    " [  5.3,          0.0256975 ],\n",
    " [ 10.3,          0.03638556]]\n",
    "\n",
    "In = np.array(In)\n",
    "\n",
    "x = np.arange(3, 14, 0.1)\n",
    "y = -0.00010674*x**2+0.00380448*x+ 0.00880618"
   ]
  },
  {
   "cell_type": "code",
   "execution_count": 27,
   "metadata": {
    "collapsed": false
   },
   "outputs": [
    {
     "data": {
      "image/png": "[encoded data removed]",
      "text/plain": [
       "<matplotlib.figure.Figure at 0x7efd149e8850>"
      ]
     },
     "metadata": {},
     "output_type": "display_data"
    }
   ],
   "source": [
    "plt.scatter(In[:,0], In[:,1], color='g', label='Merenja')\n",
    "plt.plot(x, y, c='#0000ff', label='funkcija')\n",
    "plt.ylabel('protok [l/s]')\n",
    "plt.xlabel('pritisak [Bar]')\n",
    "plt.grid(True)\n",
    "plt.legend();"
   ]
  },
  {
   "cell_type": "code",
   "execution_count": 28,
   "metadata": {
    "collapsed": false
   },
   "outputs": [
    {
     "data": {
      "image/png": "[encoded data removed]",
      "text/plain": [
       "<matplotlib.figure.Figure at 0x7efd149e8f10>"
      ]
     },
     "metadata": {},
     "output_type": "display_data"
    }
   ],
   "source": [
    "x = np.array([0, 1, 2, 3, 4, 5, 6, 7, 8, 9])\n",
    "y = np.array([0.5, 2, 0, 3, 2, 1, 0, 0, 2, 1])\n",
    "z = np.array([1, 3, 1, 1, 4, 5, 1, 2, 1, 2])\n",
    "width = 0.35\n",
    "\n",
    "plt.bar(x, y, width, color=\"blue\", label='Matematika');\n",
    "plt.bar(x-width, z, width, color=\"green\", label='Fizika');\n",
    "plt.legend();\n",
    "plt.xticks(x);\n"
   ]
  },
  {
   "cell_type": "markdown",
   "metadata": {},
   "source": [
    "## SVG slika kao rezultat izvršavanja\n"
   ]
  },
  {
   "cell_type": "code",
   "execution_count": 29,
   "metadata": {
    "collapsed": true
   },
   "outputs": [],
   "source": [
    "from IPython.display import SVG"
   ]
  },
  {
   "cell_type": "code",
   "execution_count": 30,
   "metadata": {
    "collapsed": false
   },
   "outputs": [
    {
     "data": {
      "image/svg+xml": [
       "<svg height=\"225\" width=\"500\">\n",
       "  <ellipse cx=\"200\" cy=\"80\" rx=\"100\" ry=\"50\" style=\"fill:yellow;stroke:purple;stroke-width:2\"/>\n",
       "  <line style=\"stroke:rgb(255,0,0);stroke-width:2\" x1=\"200\" x2=\"200\" y1=\"80\" y2=\"200\"/>\n",
       "</svg>"
      ],
      "text/plain": [
       "<IPython.core.display.SVG object>"
      ]
     },
     "execution_count": 30,
     "metadata": {},
     "output_type": "execute_result"
    }
   ],
   "source": [
    "cx, cy = (200, 80)\n",
    "rx = 100\n",
    "ry = 50\n",
    "\n",
    "x1, y1 = (200,80)\n",
    "x2, y2 = (200, 200)\n",
    "\n",
    "# odrediti tacku preseka crvene linije i elipse\n",
    "svg = \"\"\"\n",
    "<svg height=\"225\" width=\"500\">\n",
    "  <ellipse cx=\"{0}\" cy=\"{1}\" rx=\"{2}\" ry=\"{3}\" style=\"fill:yellow;stroke:purple;stroke-width:2\" />\n",
    "  <line x1=\"{4}\" y1=\"{5}\" x2=\"{6}\" y2=\"{7}\" style=\"stroke:rgb(255,0,0);stroke-width:2\" />\n",
    "</svg>\n",
    "\"\"\".format(cx, cy, rx, ry, x1, y1, x2, y2)\n",
    "SVG(svg)"
   ]
  },
  {
   "cell_type": "markdown",
   "metadata": {},
   "source": [
    "## Primer određivanja preseka crvene linija i elipse\n",
    "\n",
    "Direktan postupak bi bio da se nađe rešenje sistema dve jednačina: prave i elipse. Problem je što pažljivo moramo analizirati slučajeve kad postoje dva rešenja pa izabrati ono koje pripada crvenom segmentu.\n",
    "\n",
    "Jednostavniji postupak bi bio iterativnim postupkom pronaći rešenje korišćenjem klasične pretrage.\n",
    "\n",
    "Postupak bi bio sledeći:\n",
    "1. napisati funkciju koja proverava da li proizvoljna tačka pripada elipsi"
   ]
  },
  {
   "cell_type": "code",
   "execution_count": 31,
   "metadata": {
    "collapsed": false
   },
   "outputs": [],
   "source": [
    "def inside_ellipse(x, y, xc, yc, rx, ry):\n",
    "    d = (x-xc)**2/(rx**2)+(y-yc)**2/(ry**2)\n",
    "    if d<=1:\n",
    "        return True\n",
    "    else:\n",
    "        return False"
   ]
  },
  {
   "cell_type": "markdown",
   "metadata": {},
   "source": [
    "provera da li funkcija radi kako treba."
   ]
  },
  {
   "cell_type": "code",
   "execution_count": 32,
   "metadata": {
    "collapsed": false
   },
   "outputs": [
    {
     "name": "stdout",
     "output_type": "stream",
     "text": [
      "True\n"
     ]
    }
   ],
   "source": [
    "import numpy as np\n",
    "\n",
    "def point_in_el(ax, ay):\n",
    "    return inside_ellipse(ax, ay, cx, cy, rx, ry)\n",
    "\n",
    "cx, cy = (200, 80)\n",
    "rx = 100\n",
    "ry = 50\n",
    "\n",
    "x1, y1 = (200,80)\n",
    "x2, y2 = (200, 200)\n",
    "\n",
    "x,y = (200., 120.)\n",
    "print point_in_el(x, y)    "
   ]
  },
  {
   "cell_type": "markdown",
   "metadata": {},
   "source": [
    "2. Algoritam koji se iterativno sa fiksnim korakom 0.05 pomera duž crvene linije i proverava da li se tačka nalazi u prostoru elipse. "
   ]
  },
  {
   "cell_type": "code",
   "execution_count": 33,
   "metadata": {
    "collapsed": false
   },
   "outputs": [
    {
     "name": "stdout",
     "output_type": "stream",
     "text": [
      "Reseno u 12 koraka\n"
     ]
    },
    {
     "data": {
      "image/svg+xml": [
       "<svg height=\"225\" width=\"500\">\n",
       "  <ellipse cx=\"200\" cy=\"80\" rx=\"100\" ry=\"50\" style=\"fill:yellow;stroke:purple;stroke-width:2\"/>\n",
       "  <line style=\"stroke:rgb(255,0,0);stroke-width:2\" x1=\"200\" x2=\"200\" y1=\"80\" y2=\"200\"/>\n",
       "  <circle cx=\"200.0\" cy=\"134.0\" r=\"3\" style=\"fill:red;stroke:purple;stroke-width:2\"/>\n",
       "</svg>"
      ],
      "text/plain": [
       "<IPython.core.display.SVG object>"
      ]
     },
     "execution_count": 33,
     "metadata": {},
     "output_type": "execute_result"
    }
   ],
   "source": [
    "A = np.array([x2, y2])\n",
    "B = np.array([x1, y1])\n",
    "\n",
    "for i, u in enumerate(np.arange(0,1,0.05)):\n",
    "    T = A+u*(B-A)\n",
    "    if point_in_el(T[0], T[1]):\n",
    "        print 'Reseno u {0} koraka'.format(i)\n",
    "        break;\n",
    "    x = T[0]\n",
    "    y = T[1]\n",
    "\n",
    "svg = \"\"\"\n",
    "<svg height=\"225\" width=\"500\">\n",
    "  <ellipse cx=\"{0}\" cy=\"{1}\" rx=\"{2}\" ry=\"{3}\" style=\"fill:yellow;stroke:purple;stroke-width:2\" />\n",
    "  <line x1=\"{4}\" y1=\"{5}\" x2=\"{6}\" y2=\"{7}\" style=\"stroke:rgb(255,0,0);stroke-width:2\" />\n",
    "  <circle cx=\"{8}\" cy=\"{9}\" r=\"{10}\" style=\"fill:red;stroke:purple;stroke-width:2\" />\n",
    "</svg>\n",
    "\"\"\".format(cx, cy, rx, ry, x1, y1, x2, y2, x, y, 3)\n",
    "SVG(svg)"
   ]
  },
  {
   "cell_type": "markdown",
   "metadata": {},
   "source": [
    "2. Algoritam koji pretražuje metodom polovljenja sve dok rastojanje ne postane manje od 0.01"
   ]
  },
  {
   "cell_type": "code",
   "execution_count": 35,
   "metadata": {
    "collapsed": false
   },
   "outputs": [
    {
     "name": "stdout",
     "output_type": "stream",
     "text": [
      "0 0 0.5 1\n",
      "1 0.5 0.75 1\n",
      "2 0.5 0.625 0.75\n",
      "3 0.5 0.5625 0.625\n",
      "4 0.5625 0.59375 0.625\n",
      "5 0.5625 0.578125 0.59375\n",
      "6 0.578125 0.5859375 0.59375\n",
      "7 0.578125 0.58203125 0.5859375\n",
      "reseno\n",
      "\n",
      "<svg height=\"225\" width=\"500\">\n",
      "  <ellipse cx=\"200\" cy=\"80\" rx=\"100\" ry=\"50\" style=\"fill:yellow;stroke:purple;stroke-width:2\" />\n",
      "  <line x1=\"200\" y1=\"80\" x2=\"200\" y2=\"200\" style=\"stroke:rgb(255,0,0);stroke-width:2\" />\n",
      "  <circle cx=\"200.0\" cy=\"130.15625\" r=\"3\" style=\"fill:red;stroke:purple;stroke-width:2\" />\n",
      "</svg>\n",
      "\n"
     ]
    },
    {
     "data": {
      "image/svg+xml": [
       "<svg height=\"225\" width=\"500\">\n",
       "  <ellipse cx=\"200\" cy=\"80\" rx=\"100\" ry=\"50\" style=\"fill:yellow;stroke:purple;stroke-width:2\"/>\n",
       "  <line style=\"stroke:rgb(255,0,0);stroke-width:2\" x1=\"200\" x2=\"200\" y1=\"80\" y2=\"200\"/>\n",
       "  <circle cx=\"200.0\" cy=\"130.15625\" r=\"3\" style=\"fill:red;stroke:purple;stroke-width:2\"/>\n",
       "</svg>"
      ],
      "text/plain": [
       "<IPython.core.display.SVG object>"
      ]
     },
     "execution_count": 35,
     "metadata": {},
     "output_type": "execute_result"
    }
   ],
   "source": [
    "A = np.array([x2, y2])\n",
    "B = np.array([x1, y1])\n",
    "u1 = 0\n",
    "u2 = 1\n",
    "\n",
    "for it in range(100):\n",
    "    d = u2-u1\n",
    "    u = (u2+u1)/2.0\n",
    "    print it, u1, u, u2\n",
    "    T = A+u*(B-A)\n",
    "    if point_in_el(T[0], T[1]):\n",
    "        u2 = u        \n",
    "    else:\n",
    "        u1 = u\n",
    "    if d<0.01:\n",
    "        x = T[0]\n",
    "        y = T[1]\n",
    "        print 'reseno'\n",
    "        break\n",
    "svg = \"\"\"\n",
    "<svg height=\"225\" width=\"500\">\n",
    "  <ellipse cx=\"{0}\" cy=\"{1}\" rx=\"{2}\" ry=\"{3}\" style=\"fill:yellow;stroke:purple;stroke-width:2\" />\n",
    "  <line x1=\"{4}\" y1=\"{5}\" x2=\"{6}\" y2=\"{7}\" style=\"stroke:rgb(255,0,0);stroke-width:2\" />\n",
    "  <circle cx=\"{8}\" cy=\"{9}\" r=\"{10}\" style=\"fill:red;stroke:purple;stroke-width:2\" />\n",
    "</svg>\n",
    "\"\"\".format(cx, cy, rx, ry, x1, y1, x2, y2, x, y, 3)\n",
    "print svg\n",
    "SVG(svg)"
   ]
  },
  {
   "cell_type": "code",
   "execution_count": 47,
   "metadata": {
    "collapsed": false
   },
   "outputs": [
    {
     "data": {
      "image/png": "[encoded data removed]",
      "text/plain": [
       "<IPython.core.display.Image object>"
      ]
     },
     "execution_count": 47,
     "metadata": {},
     "output_type": "execute_result"
    }
   ],
   "source": [
    "from IPython.display import Image\n",
    "Image(filename='images/img1_ellipse.png') "
   ]
  },
  {
   "cell_type": "code",
   "execution_count": null,
   "metadata": {
    "collapsed": true
   },
   "outputs": [],
   "source": []
  }
 ],
 "metadata": {
  "kernelspec": {
   "display_name": "Python 2",
   "language": "python",
   "name": "python2"
  },
  "language_info": {
   "codemirror_mode": {
    "name": "ipython",
    "version": 2
   },
   "file_extension": ".py",
   "mimetype": "text/x-python",
   "name": "python",
   "nbconvert_exporter": "python",
   "pygments_lexer": "ipython2",
   "version": "2.7.6"
  }
 },
 "nbformat": 4,
 "nbformat_minor": 2
}
