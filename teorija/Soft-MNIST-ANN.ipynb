{
 "cells": [
  {
   "cell_type": "markdown",
   "metadata": {},
   "source": [
    "# MNIST data set i neuronske mreže\n"
   ]
  },
  {
   "cell_type": "markdown",
   "metadata": {},
   "source": [
    "Primer korišćenja neuronske mreže u prepoznavanju rukom pisanih cifara."
   ]
  },
  {
   "cell_type": "code",
   "execution_count": 3,
   "metadata": {
    "collapsed": true
   },
   "outputs": [],
   "source": [
    "from sklearn.datasets import fetch_mldata\n",
    "import numpy as np\n",
    "\n",
    "mnist = fetch_mldata('MNIST original')\n",
    "\n",
    "data   = mnist.data / 255.0\n",
    "labels = mnist.target.astype('int')"
   ]
  },
  {
   "cell_type": "markdown",
   "metadata": {},
   "source": [
    "Osnovni data set podelićemo na dva podskupa: jedan za trening i jedan za test.\n"
   ]
  },
  {
   "cell_type": "code",
   "execution_count": 4,
   "metadata": {
    "collapsed": false
   },
   "outputs": [],
   "source": [
    "train_rank = 5000\n",
    "test_rank = 100\n",
    "#------- MNIST subset --------------------------\n",
    "train_subset = np.random.choice(data.shape[0], train_rank)\n",
    "test_subset = np.random.choice(data.shape[0], test_rank)\n",
    "\n",
    "# train dataset\n",
    "train_data = data[train_subset]\n",
    "train_labels = labels[train_subset]\n",
    "\n",
    "# test dataset\n",
    "test_data = data[test_subset]\n",
    "test_labels = labels[test_subset]\n"
   ]
  },
  {
   "cell_type": "markdown",
   "metadata": {},
   "source": [
    "Labele su u formatu koji nije pogodan za obučavanje u slučaju da neuronska mreža ima 10 izlaza. Pogodan format je u obliku u kojem je labela vektor od 10 elemenata gde su svi elementi 0 sem elementa koji se nalazi na poziciji labele.\n",
    "\n",
    "Npr. \n",
    "~~~~\n",
    "      0  1  2  3  4  5  6  7  8  9\n",
    "3 -> [0, 0, 0, 1, 0, 0, 0, 0, 0, 0]\n",
    "5 -> [0, 0, 0, 0, 0, 1, 0, 0, 0, 0]\n",
    "9 -> [0, 0, 0, 0, 0, 0, 0, 0, 0, 1]\n",
    "~~~~"
   ]
  },
  {
   "cell_type": "code",
   "execution_count": 5,
   "metadata": {
    "collapsed": false
   },
   "outputs": [
    {
     "name": "stdout",
     "output_type": "stream",
     "text": [
      "[[0 0 0 1 0 0 0 0 0 0]\n",
      " [0 0 0 0 0 1 0 0 0 0]\n",
      " [0 0 0 0 0 0 0 0 0 1]]\n"
     ]
    }
   ],
   "source": [
    "def to_categorical(labels, n):\n",
    "    retVal = np.zeros((len(labels), n), dtype='int')\n",
    "    ll = np.array(list(enumerate(labels)))\n",
    "    retVal[ll[:,0],ll[:,1]] = 1\n",
    "    return retVal\n",
    "\n",
    "test = [3, 5, 9]\n",
    "print to_categorical(test, 10)"
   ]
  },
  {
   "cell_type": "markdown",
   "metadata": {},
   "source": [
    "Konverzija train i test labela u pogodan oblik."
   ]
  },
  {
   "cell_type": "code",
   "execution_count": 6,
   "metadata": {
    "collapsed": true
   },
   "outputs": [],
   "source": [
    "# train and test to categorical\n",
    "train_out = to_categorical(train_labels, 10)\n",
    "test_out = to_categorical(test_labels, 10)"
   ]
  },
  {
   "cell_type": "code",
   "execution_count": 9,
   "metadata": {
    "collapsed": false
   },
   "outputs": [],
   "source": [
    "#--------------- ANN ------------------\n",
    "from keras.models import Sequential\n",
    "from keras.layers.core import Activation, Dense\n",
    "from keras.optimizers import SGD"
   ]
  },
  {
   "cell_type": "markdown",
   "metadata": {},
   "source": [
    "Neuronska mreža koju ćemo koristiti za prepoznavanje rukom pisane cifre treba da ima 28x28 = 784 ulazna neurona i 10 izlaznih neurona. Broj neurona u skrivenom/im slojevima se može menjati."
   ]
  },
  {
   "cell_type": "code",
   "execution_count": 10,
   "metadata": {
    "collapsed": true
   },
   "outputs": [],
   "source": [
    "# prepare model\n",
    "model = Sequential()\n",
    "model.add(Dense(70, input_dim=784))\n",
    "model.add(Activation('relu'))\n",
    "#model.add(Dense(50))\n",
    "#model.add(Activation('tanh'))\n",
    "model.add(Dense(10))\n",
    "model.add(Activation('relu'))"
   ]
  },
  {
   "cell_type": "markdown",
   "metadata": {},
   "source": [
    "Za obučavanje ovako modelovane neuronske mreže koristićemo SGD algoritam za optimizaciju."
   ]
  },
  {
   "cell_type": "code",
   "execution_count": 11,
   "metadata": {
    "collapsed": false
   },
   "outputs": [],
   "source": [
    "# compile model with optimizer\n",
    "sgd = SGD(lr=0.1, decay=0.001, momentum=0.7)\n",
    "model.compile(loss='mean_squared_error', optimizer=sgd)"
   ]
  },
  {
   "cell_type": "markdown",
   "metadata": {},
   "source": [
    "### Obučavanje na osnovu train skupa"
   ]
  },
  {
   "cell_type": "code",
   "execution_count": 12,
   "metadata": {
    "collapsed": false
   },
   "outputs": [
    {
     "name": "stdout",
     "output_type": "stream",
     "text": [
      "0.0189804209024\n"
     ]
    }
   ],
   "source": [
    "# training\n",
    "training = model.fit(train_data, train_out, nb_epoch=500, batch_size=400, verbose=0)\n",
    "print training.history['loss'][-1]"
   ]
  },
  {
   "cell_type": "markdown",
   "metadata": {},
   "source": [
    "### Verifikacija na test skupu."
   ]
  },
  {
   "cell_type": "code",
   "execution_count": 19,
   "metadata": {
    "collapsed": false
   },
   "outputs": [
    {
     "name": "stdout",
     "output_type": "stream",
     "text": [
      "100/100 [==============================] - 0s\n",
      "test 0.0154698546976\n"
     ]
    }
   ],
   "source": [
    "# evaluate on test data\n",
    "scores = model.evaluate(test_data, test_out, verbose=1)\n",
    "print 'test', scores"
   ]
  },
  {
   "cell_type": "markdown",
   "metadata": {},
   "source": [
    "### Verifikacija na obučavajućem skupu"
   ]
  },
  {
   "cell_type": "code",
   "execution_count": 20,
   "metadata": {
    "collapsed": false
   },
   "outputs": [
    {
     "name": "stdout",
     "output_type": "stream",
     "text": [
      "5000/5000 [==============================] - 0s     \n",
      "train 0.0086535033077\n"
     ]
    }
   ],
   "source": [
    "# evaluate on train data\n",
    "scores = model.evaluate(train_data, train_out, verbose=1)\n",
    "print 'train', scores"
   ]
  },
  {
   "cell_type": "markdown",
   "metadata": {},
   "source": [
    "### Korišćenje neuronske mreže u prepoznavanju"
   ]
  },
  {
   "cell_type": "code",
   "execution_count": 38,
   "metadata": {
    "collapsed": false
   },
   "outputs": [
    {
     "name": "stdout",
     "output_type": "stream",
     "text": [
      "(784L,)\n"
     ]
    },
    {
     "data": {
      "text/plain": [
       "<matplotlib.image.AxesImage at 0x398cd828>"
      ]
     },
     "execution_count": 38,
     "metadata": {},
     "output_type": "execute_result"
    },
    {
     "data": {
      "image/png": "[encoded data removed]",
      "text/plain": [
       "<matplotlib.figure.Figure at 0x1c3cdc88>"
      ]
     },
     "metadata": {},
     "output_type": "display_data"
    }
   ],
   "source": [
    "imgN = 2\n",
    "img = test_data[imgN]\n",
    "print img.shape\n",
    "img = img.reshape(28,28)\n",
    "\n",
    "plt.imshow(img, cmap=\"Greys\")"
   ]
  },
  {
   "cell_type": "code",
   "execution_count": 62,
   "metadata": {
    "collapsed": false
   },
   "outputs": [
    {
     "name": "stdout",
     "output_type": "stream",
     "text": [
      "(100L, 784L)\n",
      "100/100 [==============================] - 0s\n",
      "[  2.23517418e-08   2.95211256e-01   9.24468756e-01   6.86481223e-02\n",
      "  -2.23517418e-08   3.72529030e-09  -7.45058060e-09  -3.72529030e-09\n",
      "  -3.72529030e-09   0.00000000e+00]\n"
     ]
    }
   ],
   "source": [
    "t = model.predict(test_data, verbose=1)\n",
    "print t[imgN]"
   ]
  },
  {
   "cell_type": "code",
   "execution_count": 41,
   "metadata": {
    "collapsed": false
   },
   "outputs": [
    {
     "data": {
      "text/plain": [
       "<Container object of 10 artists>"
      ]
     },
     "execution_count": 41,
     "metadata": {},
     "output_type": "execute_result"
    },
    {
     "data": {
      "image/png": "[encoded data removed]",
      "text/plain": [
       "<matplotlib.figure.Figure at 0x3c01f6d8>"
      ]
     },
     "metadata": {},
     "output_type": "display_data"
    }
   ],
   "source": [
    "%matplotlib inline\n",
    "import matplotlib.pyplot as plt\n",
    "\n",
    "x = [0, 1, 2, 3, 4, 5, 6, 7, 8, 9]\n",
    "plt.xticks(x)\n",
    "width = 1/1.5\n",
    "plt.bar(x, t[imgN], color=\"blue\")"
   ]
  },
  {
   "cell_type": "markdown",
   "metadata": {},
   "source": [
    "Neuron koji je najviše pobuđen određuje predikciju."
   ]
  },
  {
   "cell_type": "code",
   "execution_count": 45,
   "metadata": {
    "collapsed": false
   },
   "outputs": [
    {
     "name": "stdout",
     "output_type": "stream",
     "text": [
      "2\n"
     ]
    }
   ],
   "source": [
    "rez_t = t.argmax(axis=1)\n",
    "print rez_t[imgN]"
   ]
  },
  {
   "cell_type": "markdown",
   "metadata": {},
   "source": [
    "Tačnost na test skupu"
   ]
  },
  {
   "cell_type": "code",
   "execution_count": 46,
   "metadata": {
    "collapsed": false
   },
   "outputs": [
    {
     "name": "stdout",
     "output_type": "stream",
     "text": [
      "93\n"
     ]
    }
   ],
   "source": [
    "print sum((test_labels.T == rez_t.T)*1)"
   ]
  },
  {
   "cell_type": "markdown",
   "metadata": {},
   "source": [
    "Korišćenje u realnim uslovima"
   ]
  },
  {
   "cell_type": "code",
   "execution_count": 94,
   "metadata": {
    "collapsed": false
   },
   "outputs": [
    {
     "data": {
      "image/png": "[encoded data removed]",
      "text/plain": [
       "<matplotlib.figure.Figure at 0x3e221c18>"
      ]
     },
     "metadata": {},
     "output_type": "display_data"
    }
   ],
   "source": [
    "from skimage.io import imread\n",
    "img = imread('images/img-97.png')\n",
    "plt.imshow(img)\n",
    "plt.show()\n",
    "(h,w, c) = img.shape"
   ]
  },
  {
   "cell_type": "markdown",
   "metadata": {},
   "source": [
    "Prozor 28x28"
   ]
  },
  {
   "cell_type": "code",
   "execution_count": 125,
   "metadata": {
    "collapsed": false
   },
   "outputs": [],
   "source": [
    "blok_size = (28,28)\n",
    "blok_center = (46, 29)\n",
    "blok_loc = (blok_center[0]-blok_size[0]/2, blok_center[1]-blok_size[1]/2)\n",
    "\n",
    "imgB = img[blok_loc[0]:blok_loc[0]+blok_size[0], \n",
    "           blok_loc[1]:blok_loc[1]+blok_size[1], 0]"
   ]
  },
  {
   "cell_type": "code",
   "execution_count": 126,
   "metadata": {
    "collapsed": false
   },
   "outputs": [
    {
     "data": {
      "image/png": "[encoded data removed]",
      "text/plain": [
       "<matplotlib.figure.Figure at 0x400394a8>"
      ]
     },
     "metadata": {},
     "output_type": "display_data"
    }
   ],
   "source": [
    "plt.imshow(imgB, cmap=\"Greys\")\n",
    "(h,w) = imgB.shape"
   ]
  },
  {
   "cell_type": "code",
   "execution_count": 127,
   "metadata": {
    "collapsed": false
   },
   "outputs": [
    {
     "name": "stdout",
     "output_type": "stream",
     "text": [
      "[  0   0   0   0   0   0   0   0   0   0   0   0   0   0   0   0   0   0\n",
      "   0   0   0   0   0   0   0   0   0   0   0   0   0   0   0   0   0   0\n",
      "   0   0   0   0   0   0   0   0   0   0   0   0   0   0   0   0   0   0\n",
      "   0   0   0   0   0   0   0   0   0   0   0   0   0   0   0   0   0   0\n",
      "   0   0   0   0   0   0   0   0   0   0   0   0   0   0   0   0   0   0\n",
      "   0   0   0   0   0   0   0   0   0  36 108 147 249 183  59  18   0   0\n",
      "   0   0   0   0   0   0   0   0   0   0   0   0   0   0   0   0  36 123\n",
      " 114 249 254 254 254 254 254 159  25   0   0   0   0   0   0   0   0   0\n",
      "   0   0   0   0   0   0   0   2 169 254 254 254 251 249 250 254 254 254\n",
      " 129   0   0   0   0   0   0   0   0   0   0   0   0   0   0   0   0 146\n",
      " 254 254 254 207  37   0   9 184 254 254 189   0   0   0   0   0   0   0\n",
      "   0   0   0   0   0   0   0   0   0 190 254 254 254  21   0   0   0  16\n",
      " 219 254 238  32   0   0   0   0   0   0   0   0   0   0   0   0   0   0\n",
      "  40 248 254 254 126   3   0   0   0   0 207 254 254 140   0   0   0   0\n",
      "   0   0   0   0   0   0   0   0   0   0  65 254 254 203  23   0   0   0\n",
      "   0   0 186 254 254 215   3   0   0   0   0   0   0   0   0   0   0   0\n",
      "   0   5 231 254 251  64   0   0   0   0   0   0  65 251 254 254   5   0\n",
      "   0   0   0   0   0   0   0   0   0   0   0   6 254 254 190   0   0   0\n",
      "   0   0   0   0   0 245 254 254   5   0   0   0   0   0   0   0   0   0\n",
      "   0   0   0   6 254 254 135   0   0   0   0   0   0   0   0 245 254 254\n",
      "   5   0   0   0   0   0   0   0   0   0   0   0   0   6 254 254 135   0\n",
      "   0   0   0   0   0   0   0 245 254 254   5   0   0   0   0   0   0   0\n",
      "   0   0   0   0   0 108 254 254 135   0   0   0   0   0   0   0   0 245\n",
      " 254 246   4   0   0   0   0   0   0   0   0   0   0   0   0 115 254 254\n",
      " 135   0   0   0   0   0   0   0  65 251 254 151   0   0   0   0   0   0\n",
      "   0   0   0   0   0   0   0 115 254 254 135   0   0   0   0   0   0   0\n",
      " 139 254 254 151   0   0   0   0   0   0   0   0   0   0   0   0   0 115\n",
      " 254 254 135   0   0   0   0   0   0   7 212 254 220  24   0   0   0   0\n",
      "   0   0   0   0   0   0   0   0   0 115 254 254 163   0   0   0   0   0\n",
      "   6 156 254 254 189   0   0   0   0   0   0   0   0   0   0   0   0   0\n",
      "   0  24 254 254 248  40   0   0   0   0  67 254 254 254  99   0   0   0\n",
      "   0   0   0   0   0   0   0   0   0   0   0   3 184 254 254 231 141  42\n",
      " 103 181 252 254 228 152   2   0   0   0   0   0   0   0   0   0   0   0\n",
      "   0   0   0   0  32 206 254 254 254 254 254 254 254 208  35   0   0   0\n",
      "   0   0   0   0   0   0   0   0   0   0   0   0   0   0   0  12 139 254\n",
      " 254 254 208 168  91  13   0   0   0   0   0   0   0   0   0   0   0   0\n",
      "   0   0   0   0   0   0   0   0   0   0   0   0   0   0   0   0   0   0\n",
      "   0   0   0   0   0   0   0   0   0   0   0   0   0   0   0   0   0   0\n",
      "   0   0   0   0   0   0   0   0   0   0   0   0   0   0   0   0   0   0\n",
      "   0   0   0   0   0   0   0   0   0   0   0   0   0   0   0   0   0   0\n",
      "   0   0   0   0   0   0   0   0   0   0   0   0   0   0   0   0   0   0\n",
      "   0   0   0   0   0   0   0   0   0   0   0   0   0   0   0   0   0   0\n",
      "   0   0   0   0   0   0   0   0   0   0   0   0   0   0   0   0   0   0\n",
      "   0   0   0   0   0   0   0   0   0   0]\n"
     ]
    }
   ],
   "source": [
    "imgB_test = imgB.reshape(784)\n",
    "print imgB_test"
   ]
  },
  {
   "cell_type": "code",
   "execution_count": 128,
   "metadata": {
    "collapsed": false
   },
   "outputs": [
    {
     "name": "stdout",
     "output_type": "stream",
     "text": [
      "(784L,)\n",
      "1/1 [==============================] - 0s\n",
      "[  6.84777558e-01  -9.77888703e-09   0.00000000e+00  -4.65661287e-09\n",
      "  -2.23517418e-08  -1.11758709e-08   4.59195793e-01  -3.72529030e-09\n",
      "  -3.72529030e-09   0.00000000e+00]\n"
     ]
    }
   ],
   "source": [
    "imgB_test = imgB_test/255.\n",
    "print imgB_test.shape\n",
    "tt = model.predict(np.array([imgB_test]), verbose=1)\n",
    "print tt[0]"
   ]
  },
  {
   "cell_type": "code",
   "execution_count": 129,
   "metadata": {
    "collapsed": false
   },
   "outputs": [
    {
     "data": {
      "text/plain": [
       "<Container object of 10 artists>"
      ]
     },
     "execution_count": 129,
     "metadata": {},
     "output_type": "execute_result"
    },
    {
     "data": {
      "image/png": "[encoded data removed]",
      "text/plain": [
       "<matplotlib.figure.Figure at 0x407e0cf8>"
      ]
     },
     "metadata": {},
     "output_type": "display_data"
    }
   ],
   "source": [
    "plt.xticks(x)\n",
    "plt.bar(x, tt[0], color=\"blue\")\n"
   ]
  },
  {
   "cell_type": "code",
   "execution_count": 130,
   "metadata": {
    "collapsed": true
   },
   "outputs": [],
   "source": [
    "blok_center = (46, 31)\n",
    "blok_loc = (blok_center[0]-blok_size[0]/2, blok_center[1]-blok_size[1]/2)\n",
    "\n",
    "imgB = img[blok_loc[0]:blok_loc[0]+blok_size[0], \n",
    "           blok_loc[1]:blok_loc[1]+blok_size[1], 0]"
   ]
  },
  {
   "cell_type": "code",
   "execution_count": 131,
   "metadata": {
    "collapsed": false
   },
   "outputs": [
    {
     "data": {
      "text/plain": [
       "<matplotlib.image.AxesImage at 0x40a8ac88>"
      ]
     },
     "execution_count": 131,
     "metadata": {},
     "output_type": "execute_result"
    },
    {
     "data": {
      "image/png": "[encoded data removed]",
      "text/plain": [
       "<matplotlib.figure.Figure at 0x4064db00>"
      ]
     },
     "metadata": {},
     "output_type": "display_data"
    }
   ],
   "source": [
    "imgB_test = imgB.reshape(784)\n",
    "plt.imshow(imgB, cmap=\"Greys\")"
   ]
  },
  {
   "cell_type": "code",
   "execution_count": 132,
   "metadata": {
    "collapsed": false
   },
   "outputs": [
    {
     "name": "stdout",
     "output_type": "stream",
     "text": [
      "(784L,)\n",
      "1/1 [==============================] - 0s\n",
      "[  1.02726936e+00  -9.77888703e-09   0.00000000e+00  -4.65661287e-09\n",
      "  -2.23517418e-08  -1.11758709e-08   0.00000000e+00  -3.72529030e-09\n",
      "   1.11758709e-08   0.00000000e+00]\n"
     ]
    }
   ],
   "source": [
    "imgB_test = imgB_test/255.\n",
    "print imgB_test.shape\n",
    "tt = model.predict(np.array([imgB_test]), verbose=1)\n",
    "print tt[0]"
   ]
  },
  {
   "cell_type": "code",
   "execution_count": 133,
   "metadata": {
    "collapsed": false
   },
   "outputs": [
    {
     "data": {
      "text/plain": [
       "<Container object of 10 artists>"
      ]
     },
     "execution_count": 133,
     "metadata": {},
     "output_type": "execute_result"
    },
    {
     "data": {
      "image/png": "[encoded data removed]",
      "text/plain": [
       "<matplotlib.figure.Figure at 0x40c98550>"
      ]
     },
     "metadata": {},
     "output_type": "display_data"
    }
   ],
   "source": [
    "plt.xticks(x)\n",
    "plt.bar(x, tt[0], color=\"blue\")"
   ]
  },
  {
   "cell_type": "code",
   "execution_count": 134,
   "metadata": {
    "collapsed": false
   },
   "outputs": [
    {
     "data": {
      "text/plain": [
       "<matplotlib.image.AxesImage at 0x407cbe10>"
      ]
     },
     "execution_count": 134,
     "metadata": {},
     "output_type": "execute_result"
    },
    {
     "data": {
      "image/png": "[encoded data removed]",
      "text/plain": [
       "<matplotlib.figure.Figure at 0x40d1e5f8>"
      ]
     },
     "metadata": {},
     "output_type": "display_data"
    }
   ],
   "source": [
    "blok_center = (46, 45)\n",
    "blok_loc = (blok_center[0]-blok_size[0]/2, blok_center[1]-blok_size[1]/2)\n",
    "\n",
    "imgB = img[blok_loc[0]:blok_loc[0]+blok_size[0], \n",
    "           blok_loc[1]:blok_loc[1]+blok_size[1], 0]\n",
    "\n",
    "plt.imshow(imgB, cmap=\"Greys\")"
   ]
  },
  {
   "cell_type": "code",
   "execution_count": 135,
   "metadata": {
    "collapsed": false
   },
   "outputs": [
    {
     "name": "stdout",
     "output_type": "stream",
     "text": [
      "1/1 [==============================] - 0s\n"
     ]
    },
    {
     "data": {
      "text/plain": [
       "<Container object of 10 artists>"
      ]
     },
     "execution_count": 135,
     "metadata": {},
     "output_type": "execute_result"
    },
    {
     "data": {
      "image/png": "[encoded data removed]",
      "text/plain": [
       "<matplotlib.figure.Figure at 0x3e0f8a90>"
      ]
     },
     "metadata": {},
     "output_type": "display_data"
    }
   ],
   "source": [
    "imgB_test = imgB.reshape(784)\n",
    "imgB_test = imgB_test/255.\n",
    "tt = model.predict(np.array([imgB_test]), verbose=1)\n",
    "plt.xticks(x)\n",
    "plt.bar(x, tt[0], color=\"blue\")"
   ]
  },
  {
   "cell_type": "code",
   "execution_count": null,
   "metadata": {
    "collapsed": true
   },
   "outputs": [],
   "source": []
  }
 ],
 "metadata": {
  "kernelspec": {
   "display_name": "Python 2",
   "language": "python",
   "name": "python2"
  },
  "language_info": {
   "codemirror_mode": {
    "name": "ipython",
    "version": 2
   },
   "file_extension": ".py",
   "mimetype": "text/x-python",
   "name": "python",
   "nbconvert_exporter": "python",
   "pygments_lexer": "ipython2",
   "version": "2.7.10"
  }
 },
 "nbformat": 4,
 "nbformat_minor": 0
}
