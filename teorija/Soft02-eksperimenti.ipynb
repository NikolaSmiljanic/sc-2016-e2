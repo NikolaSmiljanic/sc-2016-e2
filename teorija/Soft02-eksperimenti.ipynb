{
 "cells": [
  {
   "cell_type": "markdown",
   "metadata": {},
   "source": [
    "#Soft computing - uvod, motivacija i eksperimenti\n",
    "\n"
   ]
  },
  {
   "cell_type": "markdown",
   "metadata": {},
   "source": [
    "## Eksperiment 1\n",
    "\n",
    "Napraviti sistem koji može da računa koren nekog broja, a da se koristi samo operacija stepenovanja."
   ]
  },
  {
   "cell_type": "markdown",
   "metadata": {
    "collapsed": false
   },
   "source": [
    "Obucavajuci skup:\n",
    "    - ulaz y**2 \n",
    "    - izlaz interval 1 - 5 korak::0.1"
   ]
  },
  {
   "cell_type": "code",
   "execution_count": 64,
   "metadata": {
    "collapsed": true
   },
   "outputs": [],
   "source": [
    "import numpy as np\n",
    "\n",
    "y = np.arange(1, 5, 0.1)\n",
    "E = np.zeros((len(y), 2), dtype='float32')\n",
    "x = y**2\n",
    "\n",
    "E[:,0] = x\n",
    "E[:,1] = y"
   ]
  },
  {
   "cell_type": "markdown",
   "metadata": {},
   "source": [
    "Model neuronske mreže\n",
    "- 1 ulazni neuron sa relu funkcijom aktivacije\n",
    "- 40 neurona u sledecem sloju\n",
    "- 50 neurona u sledecem \n",
    "- 50 neuroan u sledecem\n",
    "- 1 neuron u izlaznom sloju"
   ]
  },
  {
   "cell_type": "code",
   "execution_count": 65,
   "metadata": {
    "collapsed": false
   },
   "outputs": [],
   "source": [
    "from keras.models import Sequential\n",
    "from keras.layers.core import Activation, Dense\n",
    "from keras.optimizers import SGD\n",
    "\n",
    "model = Sequential()\n",
    "model.add(Dense(40, input_dim=1))\n",
    "model.add(Activation('relu'))\n",
    "model.add(Dense(50))\n",
    "model.add(Activation('tanh'))\n",
    "model.add(Dense(50))\n",
    "model.add(Activation('tanh'))\n",
    "model.add(Dense(1))\n",
    "model.add(Activation('relu'))\n"
   ]
  },
  {
   "cell_type": "markdown",
   "metadata": {},
   "source": [
    "Metod za obucavanje\n",
    "- SGD stohastic gradient descent"
   ]
  },
  {
   "cell_type": "code",
   "execution_count": 66,
   "metadata": {
    "collapsed": true
   },
   "outputs": [],
   "source": [
    "sgd = SGD(lr=0.01, decay=0.0000001, momentum=0.7)\n",
    "model.compile(loss='mean_squared_error', optimizer=sgd)"
   ]
  },
  {
   "cell_type": "markdown",
   "metadata": {},
   "source": [
    "Obucavanje"
   ]
  },
  {
   "cell_type": "code",
   "execution_count": 70,
   "metadata": {
    "collapsed": false
   },
   "outputs": [
    {
     "name": "stdout",
     "output_type": "stream",
     "text": [
      "2.34224389715e-05\n"
     ]
    }
   ],
   "source": [
    "training = model.fit(E[:,0:1], E[:,1], nb_epoch=5000, \n",
    "                    batch_size=40, verbose=0)\n",
    "print training.history['loss'][-1]"
   ]
  },
  {
   "cell_type": "code",
   "execution_count": 71,
   "metadata": {
    "collapsed": false
   },
   "outputs": [
    {
     "name": "stdout",
     "output_type": "stream",
     "text": [
      "40/40 [==============================] - 0s\n"
     ]
    }
   ],
   "source": [
    "t = model.predict(E[:,0:1], verbose=1)"
   ]
  },
  {
   "cell_type": "code",
   "execution_count": 73,
   "metadata": {
    "collapsed": false
   },
   "outputs": [
    {
     "data": {
      "image/png": "[encoded data removed]",
      "text/plain": [
       "<matplotlib.figure.Figure at 0x201875f8>"
      ]
     },
     "metadata": {},
     "output_type": "display_data"
    }
   ],
   "source": [
    "import matplotlib.pyplot as plt\n",
    "%matplotlib inline\n",
    "\n",
    "f, ax = plt.subplots()\n",
    "rects1 = ax.plot(E[:, 0], E[:, 1], color='g')\n",
    "rects2 = ax.plot(E[:, 0], t+0.1, color='b')\n",
    "plt.show()\n"
   ]
  },
  {
   "cell_type": "code",
   "execution_count": 90,
   "metadata": {
    "collapsed": false
   },
   "outputs": [
    {
     "name": "stdout",
     "output_type": "stream",
     "text": [
      "predikcija:\t2.03469109535\n",
      "tacna vrednost:\t2.03062305709\n",
      "error:\t\t0.00406803825861\n"
     ]
    }
   ],
   "source": [
    "xx = np.array([[4.12343]])\n",
    "ym = model.predict(xx)\n",
    "\n",
    "import math\n",
    "yt = math.sqrt(xx)\n",
    "\n",
    "print 'predikcija:\\t'+str(ym[0][0])\n",
    "print 'tacna vrednost:\\t'+str(yt)\n",
    "print 'error:\\t\\t'+str(ym[0][0]-yt)"
   ]
  },
  {
   "cell_type": "code",
   "execution_count": null,
   "metadata": {
    "collapsed": true
   },
   "outputs": [],
   "source": []
  }
 ],
 "metadata": {
  "kernelspec": {
   "display_name": "Python 2",
   "language": "python",
   "name": "python2"
  },
  "language_info": {
   "codemirror_mode": {
    "name": "ipython",
    "version": 2
   },
   "file_extension": ".py",
   "mimetype": "text/x-python",
   "name": "python",
   "nbconvert_exporter": "python",
   "pygments_lexer": "ipython2",
   "version": "2.7.10"
  }
 },
 "nbformat": 4,
 "nbformat_minor": 0
}
