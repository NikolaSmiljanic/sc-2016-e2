{
 "cells": [
  {
   "cell_type": "markdown",
   "metadata": {},
   "source": [
    "## Hough transformacija"
   ]
  },
  {
   "cell_type": "code",
   "execution_count": 3,
   "metadata": {
    "collapsed": false
   },
   "outputs": [],
   "source": [
    "import matplotlib.pyplot as plt \n",
    "%matplotlib inline\n",
    "\n",
    "import numpy as np\n",
    "from skimage.io import imread\n",
    "from scipy import ndimage\n",
    "\n",
    "img = np.ones((48,64))\n",
    "\n",
    "cx = 32\n",
    "cy = 24\n",
    "\n",
    "rMax = 32\n",
    "maxTheta = 2*np.pi\n",
    "\n",
    "\n",
    "theta = np.arange(0, maxTheta, 0.1)\n",
    "cosCache = np.cos(theta)\n",
    "sinCache = np.sin(theta) \n",
    "\n",
    "imgT = np.ones((len(theta), 2*rMax))\n"
   ]
  },
  {
   "cell_type": "code",
   "execution_count": null,
   "metadata": {
    "collapsed": true
   },
   "outputs": [],
   "source": [
    "def addPoint(x, y):\n",
    "    global theta, cosCache, sinCache, imgT, img\n",
    "    img[x, y] = 0\n",
    "    for t in range(0, len(theta)):\n",
    "        r = ((x-cx)*cosCache[t])+((y-cy)*sinCache[t])\n",
    "        imgT[t, r+rMax] += 1"
   ]
  },
  {
   "cell_type": "code",
   "execution_count": 4,
   "metadata": {
    "collapsed": false
   },
   "outputs": [
    {
     "data": {
      "text/plain": [
       "<matplotlib.image.AxesImage at 0xacdbf98>"
      ]
     },
     "execution_count": 4,
     "metadata": {},
     "output_type": "execute_result"
    },
    {
     "data": {
      "image/png": "[encoded data removed]",
      "text/plain": [
       "<matplotlib.figure.Figure at 0x3f49c50>"
      ]
     },
     "metadata": {},
     "output_type": "display_data"
    }
   ],
   "source": [
    "addPoint(20, 20)\n",
    "\n",
    "fig = plt.figure()\n",
    "a=fig.add_subplot(1,2, 1)\n",
    "plt.imshow(img, cmap='gray', interpolation='nearest')\n",
    "\n",
    "a=fig.add_subplot(1,2, 2)\n",
    "plt.imshow(imgT, cmap='gray', interpolation='nearest')"
   ]
  },
  {
   "cell_type": "code",
   "execution_count": 10,
   "metadata": {
    "collapsed": false
   },
   "outputs": [
    {
     "data": {
      "text/plain": [
       "<matplotlib.image.AxesImage at 0x1505d828>"
      ]
     },
     "execution_count": 10,
     "metadata": {},
     "output_type": "execute_result"
    },
    {
     "data": {
      "image/png": "[encoded data removed]",
      "text/plain": [
       "<matplotlib.figure.Figure at 0x13fb3da0>"
      ]
     },
     "metadata": {},
     "output_type": "display_data"
    }
   ],
   "source": [
    "addPoint(20, 30)\n",
    "\n",
    "fig = plt.figure()\n",
    "a=fig.add_subplot(1,2, 1)\n",
    "plt.imshow(img, cmap='gray', interpolation='nearest')\n",
    "\n",
    "a=fig.add_subplot(1,2, 2)\n",
    "plt.imshow(imgT, cmap='gray', interpolation='nearest')\n"
   ]
  },
  {
   "cell_type": "code",
   "execution_count": 11,
   "metadata": {
    "collapsed": false
   },
   "outputs": [
    {
     "data": {
      "text/plain": [
       "<matplotlib.image.AxesImage at 0x1521b828>"
      ]
     },
     "execution_count": 11,
     "metadata": {},
     "output_type": "execute_result"
    },
    {
     "data": {
      "image/png": "[encoded data removed]",
      "text/plain": [
       "<matplotlib.figure.Figure at 0x152d8518>"
      ]
     },
     "metadata": {},
     "output_type": "display_data"
    }
   ],
   "source": [
    "addPoint(20, 40)\n",
    "\n",
    "fig = plt.figure()\n",
    "a=fig.add_subplot(1,2, 1)\n",
    "plt.imshow(img, cmap='gray', interpolation='nearest')\n",
    "\n",
    "a=fig.add_subplot(1,2, 2)\n",
    "plt.imshow(imgT, cmap='gray', interpolation='nearest')\n"
   ]
  },
  {
   "cell_type": "code",
   "execution_count": 12,
   "metadata": {
    "collapsed": false
   },
   "outputs": [
    {
     "data": {
      "text/plain": [
       "<matplotlib.image.AxesImage at 0x1580e668>"
      ]
     },
     "execution_count": 12,
     "metadata": {},
     "output_type": "execute_result"
    },
    {
     "data": {
      "image/png": "[encoded data removed]",
      "text/plain": [
       "<matplotlib.figure.Figure at 0x156bc438>"
      ]
     },
     "metadata": {},
     "output_type": "display_data"
    }
   ],
   "source": [
    "addPoint(20, 50)\n",
    "\n",
    "fig = plt.figure()\n",
    "a=fig.add_subplot(1,2, 1)\n",
    "plt.imshow(img, cmap='gray', interpolation='nearest')\n",
    "\n",
    "a=fig.add_subplot(1,2, 2)\n",
    "plt.imshow(imgT, cmap='gray', interpolation='nearest')\n"
   ]
  },
  {
   "cell_type": "code",
   "execution_count": 13,
   "metadata": {
    "collapsed": false
   },
   "outputs": [
    {
     "data": {
      "text/plain": [
       "<matplotlib.image.AxesImage at 0x15ba04a8>"
      ]
     },
     "execution_count": 13,
     "metadata": {},
     "output_type": "execute_result"
    },
    {
     "data": {
      "image/png": "[encoded data removed]",
      "text/plain": [
       "<matplotlib.figure.Figure at 0x15a79908>"
      ]
     },
     "metadata": {},
     "output_type": "display_data"
    }
   ],
   "source": [
    "addPoint(30, 50)\n",
    "\n",
    "fig = plt.figure()\n",
    "a=fig.add_subplot(1,2, 1)\n",
    "plt.imshow(img, cmap='gray', interpolation='nearest')\n",
    "\n",
    "a=fig.add_subplot(1,2, 2)\n",
    "plt.imshow(imgT, cmap='gray', interpolation='nearest')\n"
   ]
  },
  {
   "cell_type": "code",
   "execution_count": 14,
   "metadata": {
    "collapsed": false
   },
   "outputs": [
    {
     "data": {
      "text/plain": [
       "<matplotlib.image.AxesImage at 0x15f22710>"
      ]
     },
     "execution_count": 14,
     "metadata": {},
     "output_type": "execute_result"
    },
    {
     "data": {
      "image/png": "[encoded data removed]",
      "text/plain": [
       "<matplotlib.figure.Figure at 0x15186f28>"
      ]
     },
     "metadata": {},
     "output_type": "display_data"
    }
   ],
   "source": [
    "addPoint(25, 50)\n",
    "\n",
    "fig = plt.figure()\n",
    "a=fig.add_subplot(1,2, 1)\n",
    "plt.imshow(img, cmap='gray', interpolation='nearest')\n",
    "\n",
    "a=fig.add_subplot(1,2, 2)\n",
    "plt.imshow(imgT, cmap='gray', interpolation='nearest')"
   ]
  },
  {
   "cell_type": "code",
   "execution_count": 15,
   "metadata": {
    "collapsed": false
   },
   "outputs": [
    {
     "data": {
      "text/plain": [
       "<matplotlib.image.AxesImage at 0x1608f978>"
      ]
     },
     "execution_count": 15,
     "metadata": {},
     "output_type": "execute_result"
    },
    {
     "data": {
      "image/png": "[encoded data removed]",
      "text/plain": [
       "<matplotlib.figure.Figure at 0x1613bb00>"
      ]
     },
     "metadata": {},
     "output_type": "display_data"
    }
   ],
   "source": [
    "addPoint(22, 50)\n",
    "\n",
    "fig = plt.figure()\n",
    "a=fig.add_subplot(1,2, 1)\n",
    "plt.imshow(img, cmap='gray', interpolation='nearest')\n",
    "\n",
    "a=fig.add_subplot(1,2, 2)\n",
    "plt.imshow(imgT, cmap='gray', interpolation='nearest')"
   ]
  },
  {
   "cell_type": "code",
   "execution_count": null,
   "metadata": {
    "collapsed": true
   },
   "outputs": [],
   "source": []
  }
 ],
 "metadata": {
  "kernelspec": {
   "display_name": "Python 2",
   "language": "python",
   "name": "python2"
  },
  "language_info": {
   "codemirror_mode": {
    "name": "ipython",
    "version": 2
   },
   "file_extension": ".py",
   "mimetype": "text/x-python",
   "name": "python",
   "nbconvert_exporter": "python",
   "pygments_lexer": "ipython2",
   "version": "2.7.6"
  }
 },
 "nbformat": 4,
 "nbformat_minor": 0
}
