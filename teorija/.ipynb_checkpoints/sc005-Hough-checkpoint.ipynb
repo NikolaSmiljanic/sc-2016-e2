{
 "cells": [
  {
   "cell_type": "markdown",
   "metadata": {},
   "source": [
    "#Hough transformacija"
   ]
  },
  {
   "cell_type": "code",
   "execution_count": 4,
   "metadata": {
    "collapsed": false
   },
   "outputs": [
    {
     "data": {
      "text/plain": [
       "<matplotlib.image.AxesImage at 0x13783c88>"
      ]
     },
     "execution_count": 4,
     "metadata": {},
     "output_type": "execute_result"
    },
    {
     "data": {
      "image/png": "[encoded data removed]",
      "text/plain": [
       "<matplotlib.figure.Figure at 0x13a277f0>"
      ]
     },
     "metadata": {},
     "output_type": "display_data"
    }
   ],
   "source": [
    "import matplotlib.pyplot as plt \n",
    "%matplotlib inline\n",
    "\n",
    "import numpy as np\n",
    "from skimage.io import imread\n",
    "from scipy import ndimage\n",
    "\n",
    "img = np.ones((48,64))\n",
    "cx = 32\n",
    "cy = 24\n",
    "\n",
    "rMax = 32\n",
    "maxTheta = 2*np.pi\n",
    "\n",
    "\n",
    "theta = np.arange(0, maxTheta, 0.1)\n",
    "cosCache = np.cos(theta)\n",
    "sinCache = np.sin(theta) \n",
    "\n",
    "imgT = np.ones((len(theta), 2*rMax))\n",
    "\n",
    "def addPoint(x, y):\n",
    "    global theta, cosCache, sinCache, imgT, img\n",
    "    img[x, y] = 0\n",
    "    for t in range(0, len(theta)):\n",
    "        r = ((x-cx)*cosCache[t])+((y-cy)*sinCache[t])\n",
    "        imgT[t, r+rMax] += 1\n",
    "\n",
    "addPoint(20, 20)\n",
    "addPoint(20, 30)\n",
    "addPoint(20, 40)\n",
    "addPoint(20, 50)\n",
    "\n",
    "\n",
    "fig = plt.figure()\n",
    "a=fig.add_subplot(1,2, 1)\n",
    "plt.imshow(img, cmap='gray', interpolation='nearest')\n",
    "\n",
    "a=fig.add_subplot(1,2, 2)\n",
    "plt.imshow(imgT, cmap='gray', interpolation='nearest')\n",
    "\n"
   ]
  },
  {
   "cell_type": "code",
   "execution_count": null,
   "metadata": {
    "collapsed": true
   },
   "outputs": [],
   "source": []
  },
  {
   "cell_type": "code",
   "execution_count": null,
   "metadata": {
    "collapsed": true
   },
   "outputs": [],
   "source": []
  }
 ],
 "metadata": {
  "kernelspec": {
   "display_name": "Python 2",
   "language": "python",
   "name": "python2"
  },
  "language_info": {
   "codemirror_mode": {
    "name": "ipython",
    "version": 2
   },
   "file_extension": ".py",
   "mimetype": "text/x-python",
   "name": "python",
   "nbconvert_exporter": "python",
   "pygments_lexer": "ipython2",
   "version": "2.7.10"
  }
 },
 "nbformat": 4,
 "nbformat_minor": 0
}
